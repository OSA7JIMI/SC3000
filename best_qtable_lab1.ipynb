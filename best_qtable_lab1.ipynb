{
 "cells": [
  {
   "cell_type": "markdown",
   "metadata": {
    "id": "UBiYOoesYMvr"
   },
   "source": [
    "## Installing dependencies:"
   ]
  },
  {
   "cell_type": "code",
   "execution_count": 1,
   "metadata": {
    "id": "PbgnVwZmX5uW"
   },
   "outputs": [],
   "source": [
    "!apt-get install -y xvfb python-opengl > /dev/null 2>&1\n",
    "!pip install gym pyvirtualdisplay > /dev/null 2>&1\n",
    "!pip install gym pyvirtualdisplay > /dev/null 2>&1\n",
    "!apt-get install -y xvfb python-opengl ffmpeg > /dev/null 2>&1\n",
    "!pip install gym[classic_control]\n",
    "!apt-get update > /dev/null 2>&1\n",
    "!apt-get install cmake > /dev/null 2>&1\n",
    "!pip install --upgrade setuptools 2>&1\n",
    "!pip install ez_setup > /dev/null 2>&1"
   ]
  },
  {
   "cell_type": "markdown",
   "metadata": {
    "id": "RwKbYeTgbaTA"
   },
   "source": [
    "## Import dependencies, define helper functions, initialise environment"
   ]
  },
  {
   "cell_type": "code",
   "execution_count": 2,
   "metadata": {
    "id": "j6KpgCLGYWmj"
   },
   "outputs": [],
   "source": [
    "import gym\n",
    "from gym import logger as gymlogger\n",
    "from gym.wrappers import RecordVideo\n",
    "gymlogger.set_level(40) #error only\n",
    "import tensorflow as tf\n",
    "import numpy as np\n",
    "import random\n",
    "import matplotlib\n",
    "import matplotlib.pyplot as plt\n",
    "%matplotlib inline\n",
    "import math\n",
    "import glob\n",
    "import io\n",
    "import base64\n",
    "from IPython.display import HTML\n",
    "from IPython import display as ipythondisplay\n",
    "\n",
    "def show_video():\n",
    "    mp4list = glob.glob('video/*.mp4')\n",
    "    if len(mp4list) > 0:\n",
    "        mp4 = mp4list[0]\n",
    "        video = io.open(mp4, 'r+b').read()\n",
    "        encoded = base64.b64encode(video)\n",
    "        ipythondisplay.display(HTML(data='''<video alt=\"test\" autoplay\n",
    "                    loop controls style=\"height: 400px;\">\n",
    "                    <source src=\"data:video/mp4;base64,{0}\" type=\"video/mp4\" />\n",
    "                 </video>'''.format(encoded.decode('ascii'))))\n",
    "    else:\n",
    "        print(\"Could not find video\")\n",
    "\n",
    "env = gym.make(\"CartPole-v1\")"
   ]
  },
  {
   "cell_type": "markdown",
   "metadata": {
    "id": "2oIzK9SzhlWN"
   },
   "source": [
    "## Task 1: Development of an RL agent"
   ]
  },
  {
   "cell_type": "markdown",
   "metadata": {
    "id": "Cc6_e5c_huiq"
   },
   "source": [
    "A Q-learning agent is applied in this task. To obtain the Q-table, an epsilon-greedy strategy with exploration rate of 0.1 was used to choose actions. \n",
    "\n",
    "The Q-values were calculated using the formula given in the lecture slides: new estimation = old estimation + learning rate(new sample - old estimation). The learning rate is set at 0.1 and the discount value at 0.9.\n",
    "\n",
    "After the Q-table has been populated, the agent returns the optimal action directly from the table without any randomness."
   ]
  },
  {
   "cell_type": "code",
   "execution_count": 3,
   "metadata": {
    "colab": {
     "base_uri": "https://localhost:8080/"
    },
    "id": "Hk-M4QEfh6l5",
    "outputId": "6dfc4836-b7ca-4d0e-9e09-0104a933d399"
   },
   "outputs": [
    {
     "name": "stderr",
     "output_type": "stream",
     "text": [
      "/usr/local/lib/python3.10/dist-packages/ipykernel/ipkernel.py:283: DeprecationWarning: `should_run_async` will not call `transform_cell` automatically in the future. Please pass the result to `transformed_cell` argument and any exception that happen during thetransform in `preprocessing_exc_tuple` in IPython 7.17 and above.\n",
      "  and should_run_async(code)\n"
     ]
    }
   ],
   "source": [
    "def table_agent(state):\n",
    "    if random.random()< 0.1:\n",
    "        return random.randint(0,1)\n",
    "    else:\n",
    "        return np.argmax(q_table[state])\n",
    "\n",
    "def update_table(state, action, reward, future):\n",
    "    best = np.argmax(q_table[future])\n",
    "    target = reward + 0.9*q_table[future, best]\n",
    "    error = target - q_table[state, action]\n",
    "    q_table[state, action] += 0.1*error\n",
    "\n",
    "def test_agent(state):\n",
    "    return np.argmax(q_table[state])"
   ]
  },
  {
   "cell_type": "markdown",
   "metadata": {
    "id": "7XDW3QJKcRQP"
   },
   "source": [
    "Since the original observation is an array containing continuous values, it must first be converted into a discrete state space. A total of 20 states were used to represent observations. States 0-15 are used to represent the binary values of whether each element of the observation is more than 0.\n",
    "\n",
    "As initial observations showed that the most common termination reason was the cart travelling out of the screen, extreme values of position and velocity must be accounted for. States 16-19 represent these danger zones. Since the event of the pendulum swinging more than 12 degrees was rarely observed, states were not allocated to represent this danger.\n",
    "\n",
    "The order of the return statements is arranged from highest to lowest priority, starting with dangerous position, then dangerous velocity, then the observations in binary."
   ]
  },
  {
   "cell_type": "code",
   "execution_count": 4,
   "metadata": {
    "id": "5tTkeGehrk8p"
   },
   "outputs": [],
   "source": [
    "def tuning_converter(observation, pos_proportion, v_proportion):\n",
    "    if observation[0] > 2.4*pos_proportion:\n",
    "        return 16\n",
    "    if observation[0] < -2.4*pos_proportion:\n",
    "        return 17\n",
    "    if observation[1] > 4*v_proportion:\n",
    "        return 18\n",
    "    if observation[1] < -4*v_proportion:\n",
    "        return 19\n",
    "\n",
    "    pos = observation[0] > 0\n",
    "    v = observation[1] > 0\n",
    "    ang = observation[2] > 0\n",
    "    av = observation[3] > 0\n",
    "    state = pos*8 + v*4 + ang*2 + av\n",
    "    return state"
   ]
  },
  {
   "cell_type": "markdown",
   "metadata": {
    "id": "qnhbSLv_8WQV"
   },
   "source": [
    "In order to define danger zones optimally, fine tuning of the boundaries was performed. From environment rules and initial observations, the maximum position is set at +/- 2.4 and the maximum velocity is set at +/- 4. 4 proportions (75%, 80%, 85%, 90%) are tested by populating the Q-table with 100 sets of 100 episodes and testing it on another 10 sets of 100 episodes. The mean reward for each test set of episodes is calculated and the proportions with the highest minimum mean are taken as the optimal hyperparameters."
   ]
  },
  {
   "cell_type": "code",
   "execution_count": 5,
   "metadata": {
    "colab": {
     "base_uri": "https://localhost:8080/"
    },
    "id": "-E3YCEU88U_D",
    "outputId": "22bee05d-d533-43e8-8514-17f0d099b5e1"
   },
   "outputs": [
    {
     "name": "stderr",
     "output_type": "stream",
     "text": [
      "/usr/local/lib/python3.10/dist-packages/gym/utils/passive_env_checker.py:241: DeprecationWarning: `np.bool8` is a deprecated alias for `np.bool_`.  (Deprecated NumPy 1.24)\n",
      "  if not isinstance(terminated, (bool, np.bool8)):\n"
     ]
    },
    {
     "name": "stdout",
     "output_type": "stream",
     "text": [
      "294.17 0.75 0.75\n",
      "211.59 0.75 0.8\n",
      "127.48 0.75 0.85\n",
      "87.38 0.75 0.9\n",
      "132.35 0.8 0.75\n",
      "49.32 0.8 0.8\n",
      "161.64 0.8 0.85\n",
      "116.31 0.8 0.9\n",
      "86.78 0.85 0.75\n",
      "56.05 0.85 0.8\n",
      "155.95 0.85 0.85\n",
      "121.0 0.85 0.9\n",
      "21.05 0.9 0.75\n",
      "151.59 0.9 0.8\n",
      "133.02 0.9 0.85\n",
      "157.34 0.9 0.9\n",
      "\n",
      "Best Minimum Mean, Best P, Best V\n",
      "294.17 0.75 0.75\n"
     ]
    }
   ],
   "source": [
    "best_min = 0\n",
    "best_p = 0\n",
    "best_v = 0\n",
    "best_q = np.zeros((20,2))\n",
    "\n",
    "for p in [0.75, 0.8, 0.85, 0.9]:\n",
    "    for v in [0.75, 0.8, 0.85, 0.9]:\n",
    "        q_table = np.zeros((20,2))\n",
    "\n",
    "        for i in range(100):\n",
    "            for j in range(100):\n",
    "                observation = env.reset()\n",
    "                cumulative_reward = 0\n",
    "                done = False\n",
    "                while not done:\n",
    "                    state = tuning_converter(observation, p, v)\n",
    "                    action = table_agent(state)\n",
    "                    observation, reward, done, info = env.step(action)\n",
    "                    future = tuning_converter(observation, p, v)\n",
    "                    cumulative_reward += reward\n",
    "                    update_table(state, action, cumulative_reward, future)\n",
    "\n",
    "        episode_means = []\n",
    "        for i in range(10):\n",
    "            episode_results = np.array([])\n",
    "            for j in range(100):\n",
    "                observation = env.reset()\n",
    "                cumulative_reward = 0\n",
    "                done = False\n",
    "                while not done:\n",
    "                    state = tuning_converter(observation, p, v)\n",
    "                    action = test_agent(state)\n",
    "                    observation, reward, done, info = env.step(action)\n",
    "                    cumulative_reward += reward\n",
    "                episode_results = np.append(episode_results,cumulative_reward)\n",
    "            episode_means.append(episode_results.mean())\n",
    "\n",
    "        if min(episode_means) > best_min:\n",
    "            best_min = min(episode_means)\n",
    "            best_p = p\n",
    "            best_v = v\n",
    "            best_q = q_table\n",
    "\n",
    "        print(min(episode_means), p, v)\n",
    "\n",
    "print()\n",
    "print('Best Minimum Mean, Best P, Best V')\n",
    "print(best_min, best_p, best_v)"
   ]
  },
  {
   "cell_type": "markdown",
   "metadata": {
    "id": "AFpENrFLLucm"
   },
   "source": [
    "The Q-table is set to the one with the optimal hyperparameters. In some training sessions, the danger states for velocity (18-19) are still 0. This indicates that the agent has not learned enough about these states to assign them values."
   ]
  },
  {
   "cell_type": "code",
   "execution_count": 6,
   "metadata": {
    "colab": {
     "base_uri": "https://localhost:8080/"
    },
    "id": "1LvswCgp_XtM",
    "outputId": "fdd16577-ba97-4a8e-afca-1b041e912797"
   },
   "outputs": [
    {
     "data": {
      "text/plain": [
       "array([[1451.62611697,  514.99617382],\n",
       "       [1709.009941  , 1029.21087411],\n",
       "       [ 760.79884463, 1808.22820041],\n",
       "       [ 932.22331732, 1689.31355644],\n",
       "       [ 913.63429623,  511.15432976],\n",
       "       [ 447.45660861,  543.8179625 ],\n",
       "       [1543.73110411, 1377.84295539],\n",
       "       [1152.96659858, 1489.90443688],\n",
       "       [1191.21247374,  932.11745667],\n",
       "       [ 870.59754528, 1125.51501821],\n",
       "       [ 525.96247204,  638.06132196],\n",
       "       [ 485.05456479,  571.58755071],\n",
       "       [1085.83328508,  766.35809815],\n",
       "       [ 986.39948536,  516.99516015],\n",
       "       [ 579.78793808,  994.54769863],\n",
       "       [ 594.55726208,  790.79385194],\n",
       "       [1689.897476  , 1690.28153047],\n",
       "       [1828.79840885, 1733.33424038],\n",
       "       [ 183.6541616 ,    0.        ],\n",
       "       [  58.5198753 ,    0.        ]])"
      ]
     },
     "execution_count": 6,
     "metadata": {},
     "output_type": "execute_result"
    }
   ],
   "source": [
    "q_table = best_q \n",
    "\n",
    "q_table"
   ]
  },
  {
   "cell_type": "markdown",
   "metadata": {
    "id": "RAi7KKwNiegR"
   },
   "source": [
    "For Task 1, the observation and chosen action is shown below:"
   ]
  },
  {
   "cell_type": "code",
   "execution_count": 7,
   "metadata": {
    "colab": {
     "base_uri": "https://localhost:8080/"
    },
    "id": "ae2ia-vUiNKJ",
    "outputId": "6d18840d-69a4-4255-a6aa-fb96352e7377"
   },
   "outputs": [
    {
     "name": "stdout",
     "output_type": "stream",
     "text": [
      "Observation: [-0.01358791  0.03731264 -0.0312329  -0.02936367]\n",
      "Chosen action: 0\n"
     ]
    }
   ],
   "source": [
    "observation = env.reset()\n",
    "state = tuning_converter(observation, best_p, best_v)\n",
    "action = test_agent(state)\n",
    "print(\"Observation:\", observation)\n",
    "print(\"Chosen action:\", action)"
   ]
  },
  {
   "cell_type": "markdown",
   "metadata": {
    "id": "-XtIQ0Rti1gm"
   },
   "source": [
    "## Task 2: Demonstrate the effectiveness of the RL agent"
   ]
  },
  {
   "cell_type": "markdown",
   "metadata": {
    "id": "djBEShf0kGI4"
   },
   "source": [
    "For this task, the agent developed in Task 1 played the game for 100 episodes. The cumulative reward for each episode was recorded and plotted on the graph."
   ]
  },
  {
   "cell_type": "code",
   "execution_count": 8,
   "metadata": {
    "id": "fVmQ9RRPeaiz"
   },
   "outputs": [],
   "source": [
    "episode_results = []\n",
    "for i in range(100):\n",
    "    observation = env.reset()\n",
    "    cumulative_reward = 0\n",
    "    done = False\n",
    "    while not done:\n",
    "        state = tuning_converter(observation, best_p, best_v)\n",
    "        action = test_agent(state)\n",
    "        observation, reward, done, info = env.step(action)\n",
    "        cumulative_reward += reward\n",
    "    episode_results.append(cumulative_reward)"
   ]
  },
  {
   "cell_type": "markdown",
   "metadata": {
    "id": "nBBdc6w2GShI"
   },
   "source": [
    "The graph shows a good result with many instances of truncation (maximum cumulative reward = 500). \n",
    "\n",
    "There are also a few instances of low cumulative reward (<100). These anomalies may be due to one or two starting states that the agent needs more training on."
   ]
  },
  {
   "cell_type": "code",
   "execution_count": 9,
   "metadata": {
    "colab": {
     "base_uri": "https://localhost:8080/",
     "height": 472
    },
    "id": "RZrCKywQi6CE",
    "outputId": "909a9a16-1a2f-4d05-e7c9-ca676bb398c0"
   },
   "outputs": [
    {
     "data": {
      "image/png": "[encoded data removed]",
      "text/plain": [
       "<Figure size 640x480 with 1 Axes>"
      ]
     },
     "metadata": {},
     "output_type": "display_data"
    }
   ],
   "source": [
    "plt.plot(episode_results)\n",
    "plt.title('Cumulative reward for each episode')\n",
    "plt.ylabel('Cumulative reward')\n",
    "plt.xlabel('episode')\n",
    "plt.show()"
   ]
  },
  {
   "cell_type": "markdown",
   "metadata": {
    "id": "XndSYH7wlvn7"
   },
   "source": [
    "The average reward over the 100 episodes is sufficiently high"
   ]
  },
  {
   "cell_type": "code",
   "execution_count": 10,
   "metadata": {
    "colab": {
     "base_uri": "https://localhost:8080/"
    },
    "id": "pOiOp9OYlo5Y",
    "outputId": "31550e43-19fd-4bbb-b059-5de5e5ffd4a0"
   },
   "outputs": [
    {
     "name": "stdout",
     "output_type": "stream",
     "text": [
      "Average cumulative reward: 319.73\n",
      "Is my agent good enough? True\n"
     ]
    }
   ],
   "source": [
    "mean = sum(episode_results)/100\n",
    "print(\"Average cumulative reward:\", mean)\n",
    "print(\"Is my agent good enough?\", mean > 195)"
   ]
  },
  {
   "cell_type": "markdown",
   "metadata": {
    "id": "Yg0DCT38lFA6"
   },
   "source": [
    "## Task 3: Render one episode played by the agent"
   ]
  },
  {
   "cell_type": "markdown",
   "metadata": {
    "id": "vx1awMr9lc_w"
   },
   "source": [
    "The video of an episode is displayed below."
   ]
  },
  {
   "cell_type": "code",
   "execution_count": 11,
   "metadata": {
    "colab": {
     "base_uri": "https://localhost:8080/",
     "height": 456
    },
    "id": "LYyavfbIa47D",
    "outputId": "08aa78d6-926c-469a-ef09-2b32dbac42e6"
   },
   "outputs": [
    {
     "name": "stderr",
     "output_type": "stream",
     "text": [
      "/usr/local/lib/python3.10/dist-packages/gym/utils/passive_env_checker.py:241: DeprecationWarning: `np.bool8` is a deprecated alias for `np.bool_`.  (Deprecated NumPy 1.24)\n",
      "  if not isinstance(terminated, (bool, np.bool8)):\n"
     ]
    },
    {
     "data": {
      "text/html": [
       "<video alt=\"test\" autoplay\n",
       "                    loop controls style=\"height: 400px;\">\n",
       "                    <source src=\"data:video/mp4;base64,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\" type=\"video/mp4\" />\n",
       "                 </video>"
      ],
      "text/plain": [
       "<IPython.core.display.HTML object>"
      ]
     },
     "metadata": {},
     "output_type": "display_data"
    }
   ],
   "source": [
    "env = RecordVideo(gym.make(\"CartPole-v1\"), \"./video\")\n",
    "observation = env.reset()\n",
    "while True:\n",
    "    env.render()\n",
    "    #your agent goes here\n",
    "    state = tuning_converter(observation, best_p, best_v)\n",
    "    action = test_agent(state)\n",
    "    observation, reward, done, info = env.step(action)\n",
    "    if done:\n",
    "        break;\n",
    "env.close()\n",
    "show_video()"
   ]
  },
  {
   "cell_type": "code",
   "execution_count": 11,
   "metadata": {
    "colab": {
     "base_uri": "https://localhost:8080/"
    },
    "id": "aVQKSO2LtArR",
    "outputId": "cfcb8ebf-5c9f-45fd-f77e-9edb6e4333e9"
   },
   "outputs": [
    {
     "name": "stderr",
     "output_type": "stream",
     "text": [
      "/usr/local/lib/python3.10/dist-packages/ipykernel/ipkernel.py:283: DeprecationWarning: `should_run_async` will not call `transform_cell` automatically in the future. Please pass the result to `transformed_cell` argument and any exception that happen during thetransform in `preprocessing_exc_tuple` in IPython 7.17 and above.\n",
      "  and should_run_async(code)\n"
     ]
    }
   ],
   "source": []
  }
 ],
 "metadata": {
  "colab": {
   "provenance": []
  },
  "kernelspec": {
   "display_name": "Python 3 (ipykernel)",
   "language": "python",
   "name": "python3"
  },
  "language_info": {
   "codemirror_mode": {
    "name": "ipython",
    "version": 3
   },
   "file_extension": ".py",
   "mimetype": "text/x-python",
   "name": "python",
   "nbconvert_exporter": "python",
   "pygments_lexer": "ipython3",
   "version": "3.10.6"
  }
 },
 "nbformat": 4,
 "nbformat_minor": 1
}
