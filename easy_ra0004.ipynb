{
 "cells": [
  {
   "cell_type": "markdown",
   "metadata": {
    "id": "ZauhjPSfX7pI"
   },
   "source": [
    "<a href=\"https://colab.research.google.com/github/OSA7JIMI/SC3000/blob/main/easy_ra0004.ipynb\" target=\"_parent\"><img src=\"https://colab.research.google.com/assets/colab-badge.svg\" alt=\"Open In Colab\"/></a>"
   ]
  },
  {
   "cell_type": "markdown",
   "metadata": {
    "id": "UBiYOoesYMvr"
   },
   "source": [
    "## Installing dependencies:"
   ]
  },
  {
   "cell_type": "code",
   "execution_count": null,
   "metadata": {
    "colab": {
     "base_uri": "https://localhost:8080/"
    },
    "id": "PbgnVwZmX5uW",
    "outputId": "e5b59f39-89ea-49b6-e93c-7e8bc5bcab2e"
   },
   "outputs": [
    {
     "name": "stdout",
     "output_type": "stream",
     "text": [
      "^C\n",
      "Requirement already satisfied: gym[classic_control] in /usr/local/lib/python3.10/dist-packages (0.25.2)\n",
      "Requirement already satisfied: numpy>=1.18.0 in /usr/local/lib/python3.10/dist-packages (from gym[classic_control]) (1.25.2)\n",
      "Requirement already satisfied: cloudpickle>=1.2.0 in /usr/local/lib/python3.10/dist-packages (from gym[classic_control]) (2.2.1)\n",
      "Requirement already satisfied: gym-notices>=0.0.4 in /usr/local/lib/python3.10/dist-packages (from gym[classic_control]) (0.0.8)\n",
      "Collecting pygame==2.1.0 (from gym[classic_control])\n",
      "  Downloading pygame-2.1.0-cp310-cp310-manylinux_2_17_x86_64.manylinux2014_x86_64.whl (18.3 MB)\n",
      "\u001b[2K     \u001b[90m━━━━━━━━━━━━━━━━━━━━━━━━━━━━━━━━━━━━━━━━\u001b[0m \u001b[32m18.3/18.3 MB\u001b[0m \u001b[31m25.0 MB/s\u001b[0m eta \u001b[36m0:00:00\u001b[0m\n",
      "\u001b[?25hInstalling collected packages: pygame\n",
      "  Attempting uninstall: pygame\n",
      "    Found existing installation: pygame 2.5.2\n",
      "    Uninstalling pygame-2.5.2:\n",
      "      Successfully uninstalled pygame-2.5.2\n",
      "Successfully installed pygame-2.1.0\n",
      "^C\n",
      "Requirement already satisfied: setuptools in /usr/local/lib/python3.10/dist-packages (67.7.2)\n",
      "Collecting setuptools\n",
      "  Downloading setuptools-69.2.0-py3-none-any.whl (821 kB)\n",
      "\u001b[2K     \u001b[90m━━━━━━━━━━━━━━━━━━━━━━━━━━━━━━━━━━━━━━━━\u001b[0m \u001b[32m821.5/821.5 kB\u001b[0m \u001b[31m7.5 MB/s\u001b[0m eta \u001b[36m0:00:00\u001b[0m\n",
      "\u001b[?25h\u001b[31mERROR: Operation cancelled by user\u001b[0m\u001b[31m\n",
      "\u001b[0m^C\n"
     ]
    }
   ],
   "source": [
    "!apt-get install -y xvfb python-opengl > /dev/null 2>&1\n",
    "!pip install gym pyvirtualdisplay > /dev/null 2>&1\n",
    "!pip install gym pyvirtualdisplay > /dev/null 2>&1\n",
    "!apt-get install -y xvfb python-opengl ffmpeg > /dev/null 2>&1\n",
    "!pip install gym[classic_control]\n",
    "!apt-get update > /dev/null 2>&1\n",
    "!apt-get install cmake > /dev/null 2>&1\n",
    "!pip install --upgrade setuptools 2>&1\n",
    "!pip install ez_setup > /dev/null 2>&1"
   ]
  },
  {
   "cell_type": "markdown",
   "metadata": {
    "id": "RwKbYeTgbaTA"
   },
   "source": [
    "## Import dependencies, define helper functions, initialise environment"
   ]
  },
  {
   "cell_type": "code",
   "execution_count": 21,
   "metadata": {
    "id": "j6KpgCLGYWmj"
   },
   "outputs": [],
   "source": [
    "import gym\n",
    "from gym import logger as gymlogger\n",
    "from gym.wrappers import RecordVideo\n",
    "gymlogger.set_level(40) #error only\n",
    "import tensorflow as tf\n",
    "import numpy as np\n",
    "import random\n",
    "import matplotlib\n",
    "import matplotlib.pyplot as plt\n",
    "%matplotlib inline\n",
    "import math\n",
    "import glob\n",
    "import io\n",
    "import base64\n",
    "from IPython.display import HTML\n",
    "from IPython import display as ipythondisplay\n",
    "\n",
    "def show_video():\n",
    "    mp4list = glob.glob('video/*.mp4')\n",
    "    if len(mp4list) > 0:\n",
    "        mp4 = mp4list[0]\n",
    "        video = io.open(mp4, 'r+b').read()\n",
    "        encoded = base64.b64encode(video)\n",
    "        ipythondisplay.display(HTML(data='''<video alt=\"test\" autoplay\n",
    "                    loop controls style=\"height: 400px;\">\n",
    "                    <source src=\"data:video/mp4;base64,{0}\" type=\"video/mp4\" />\n",
    "                 </video>'''.format(encoded.decode('ascii'))))\n",
    "    else:\n",
    "        print(\"Could not find video\")\n",
    "\n",
    "env = gym.make(\"CartPole-v1\")"
   ]
  },
  {
   "cell_type": "markdown",
   "metadata": {
    "id": "2oIzK9SzhlWN"
   },
   "source": [
    "## Task 1: Development of an RL agent"
   ]
  },
  {
   "cell_type": "markdown",
   "metadata": {
    "id": "Cc6_e5c_huiq"
   },
   "source": [
    "A Q-learning agent is applied in this task. To obtain the Q-table, an epsilon-greedy strategy with exploration rate of 0.1 was used to choose actions. The Q-values were calculated using the formula given in the lecture slides: new estimation = old estimation + learning rate(new sample - old estimation). The learning rate is set at 0.1 and the discount value at 0.9\n",
    "\n",
    "\n",
    "After the Q-table has been populated, the agent returns the optimal action directly from the table without any randomness."
   ]
  },
  {
   "cell_type": "code",
   "execution_count": 20,
   "metadata": {
    "id": "Hk-M4QEfh6l5"
   },
   "outputs": [],
   "source": [
    "def table_agent(state):\n",
    "    if random.random()< 0.1:\n",
    "        return random.randint(0,1)\n",
    "    else:\n",
    "        return np.argmax(q_table[state])\n",
    "\n",
    "def update_table(state, action, reward, future):\n",
    "    best = np.argmax(q_table[future])\n",
    "    target = reward + 0.9*q_table[future, best]\n",
    "    error = target - q_table[state, action]\n",
    "    q_table[state, action] += 0.1*error\n",
    "\n",
    "def test_agent(state):\n",
    "    return np.argmax(q_table[state])"
   ]
  },
  {
   "cell_type": "markdown",
   "metadata": {
    "id": "7XDW3QJKcRQP"
   },
   "source": [
    "Since the original observation is an array containing continuous values, it must first be converted into a discrete state space. A total of 20 states were used to represent observations. States 0-15 are used to represent the binary values of whether each element of the observation is more than 0.\n",
    "\n",
    "As initial observations showed that the most common termination reason was the cart travelling out of the screen, extreme values of position and velocity must be accounted for. States 16-19 represent these danger zones. Since the event of the pendulum swinging more than 12 degrees was rarely observed, states were not allocated to represent this danger.\n",
    "\n",
    "The order of the return statements is arranged from highest to lowest priority, starting with dangerous position, then dangerous velocity, then the observations in binary."
   ]
  },
  {
   "cell_type": "code",
   "execution_count": 22,
   "metadata": {
    "id": "5tTkeGehrk8p"
   },
   "outputs": [],
   "source": [
    "def tuning_converter(observation, pos_proportion, v_proportion):\n",
    "    if observation[0] > 2.4*pos_proportion:\n",
    "        return 16\n",
    "    if observation[0] < -2.4*pos_proportion:\n",
    "        return 17\n",
    "    if observation[1] > 4*v_proportion:\n",
    "        return 18\n",
    "    if observation[1] < -4*v_proportion:\n",
    "        return 19\n",
    "\n",
    "    pos = observation[0] > 0\n",
    "    v = observation[1] > 0\n",
    "    ang = observation[2] > 0\n",
    "    av = observation[3] > 0\n",
    "    state = pos*8 + v*4 + ang*2 + av\n",
    "    return state"
   ]
  },
  {
   "cell_type": "markdown",
   "metadata": {
    "id": "qnhbSLv_8WQV"
   },
   "source": [
    "In order to define danger zones optimally, fine tuning of the boundaries was performed. From environment rules and initial observations, the maximum position is set at +/- 2.4 and the maximum velocity is set at +/- 4. 4 proportions (75%, 80%, 85%, 90%) are tested by populating the Q-table with 10 sets of 100 episodes and testing it on another 10 sets of 100 episodes. The mean reward for each set of episodes is calculated and the proportions with the highest minimum mean are taken as the optimal hyperparameters."
   ]
  },
  {
   "cell_type": "code",
   "execution_count": 23,
   "metadata": {
    "colab": {
     "base_uri": "https://localhost:8080/"
    },
    "id": "-E3YCEU88U_D",
    "outputId": "d01c395e-3058-435c-d38c-dc4ff8030543"
   },
   "outputs": [
    {
     "name": "stderr",
     "output_type": "stream",
     "text": [
      "/usr/local/lib/python3.10/dist-packages/gym/utils/passive_env_checker.py:241: DeprecationWarning: `np.bool8` is a deprecated alias for `np.bool_`.  (Deprecated NumPy 1.24)\n",
      "  if not isinstance(terminated, (bool, np.bool8)):\n"
     ]
    },
    {
     "name": "stdout",
     "output_type": "stream",
     "text": [
      "65.56 0.75 0.75\n",
      "46.2 0.75 0.8\n",
      "31.67 0.75 0.85\n",
      "131.11 0.75 0.9\n",
      "120.86 0.8 0.75\n",
      "79.37 0.8 0.8\n",
      "43.27 0.8 0.85\n",
      "64.88 0.8 0.9\n",
      "224.85 0.85 0.75\n",
      "66.52 0.85 0.8\n",
      "183.76 0.85 0.85\n",
      "66.0 0.85 0.9\n",
      "39.81 0.9 0.75\n",
      "183.68 0.9 0.8\n",
      "93.58 0.9 0.85\n",
      "199.66 0.9 0.9\n",
      "\n",
      "Best Minimum Mean, Best P, Best V\n",
      "224.85 0.85 0.75\n"
     ]
    }
   ],
   "source": [
    "best_min = 0\n",
    "best_p = 0\n",
    "best_v = 0\n",
    "best_q = np.zeros((20,2))\n",
    "\n",
    "for p in [0.75, 0.8, 0.85, 0.9]:\n",
    "    for v in [0.75, 0.8, 0.85, 0.9]:\n",
    "        q_table = np.zeros((20,2))\n",
    "\n",
    "        for i in range(10):\n",
    "            for j in range(100):\n",
    "                observation = env.reset()\n",
    "                cumulative_reward = 0\n",
    "                done = False\n",
    "                while not done:\n",
    "                    state = tuning_converter(observation, p, v)\n",
    "                    action = table_agent(state)\n",
    "                    observation, reward, done, info = env.step(action)\n",
    "                    future = tuning_converter(observation, p, v)\n",
    "                    cumulative_reward += reward\n",
    "                    update_table(state, action, cumulative_reward, future)\n",
    "\n",
    "        episode_means = []\n",
    "        for i in range(10):\n",
    "            episode_results = np.array([])\n",
    "            for j in range(100):\n",
    "                observation = env.reset()\n",
    "                cumulative_reward = 0\n",
    "                done = False\n",
    "                while not done:\n",
    "                    state = tuning_converter(observation, p, v)\n",
    "                    action = test_agent(state)\n",
    "                    observation, reward, done, info = env.step(action)\n",
    "                    cumulative_reward += reward\n",
    "                episode_results = np.append(episode_results,cumulative_reward)\n",
    "            episode_means.append(episode_results.mean())\n",
    "\n",
    "        if min(episode_means) > best_min:\n",
    "            best_min = min(episode_means)\n",
    "            best_p = p\n",
    "            best_v = v\n",
    "            best_q = q_table\n",
    "\n",
    "        print(min(episode_means), p, v)\n",
    "\n",
    "print()\n",
    "print('Best Minimum Mean, Best P, Best V')\n",
    "print(best_min, best_p, best_v)"
   ]
  },
  {
   "cell_type": "markdown",
   "metadata": {
    "id": "AFpENrFLLucm"
   },
   "source": [
    "The Q-table is set to the one with the optimal hyperparameters. Note that the danger states for velocity are still 0, indicating that the agent has not learned enough about these states to assign them values. "
   ]
  },
  {
   "cell_type": "code",
   "execution_count": 24,
   "metadata": {
    "colab": {
     "base_uri": "https://localhost:8080/"
    },
    "id": "1LvswCgp_XtM",
    "outputId": "2a9bb4a5-bc0a-4e9f-8778-2a8aba5ccffe"
   },
   "outputs": [
    {
     "data": {
      "text/plain": [
       "array([[ 991.44071795,  802.09373448],\n",
       "       [ 707.46946548,  804.57676144],\n",
       "       [ 442.13552196,  591.95627817],\n",
       "       [ 437.6916562 ,  510.55640201],\n",
       "       [ 805.39815473,  448.2235345 ],\n",
       "       [ 472.08917058,   58.55296128],\n",
       "       [ 534.45274473,  483.56208621],\n",
       "       [ 450.81317528,  546.08749912],\n",
       "       [ 549.19761376,  500.35676589],\n",
       "       [ 504.79014388,  561.78427884],\n",
       "       [ 307.73013845,  771.67692003],\n",
       "       [ 577.13545682,  583.08411579],\n",
       "       [ 512.27688563,  466.56939819],\n",
       "       [ 554.94876911,  552.26842394],\n",
       "       [ 685.52963721,  586.98994539],\n",
       "       [ 623.30265704,  696.19111126],\n",
       "       [1757.40788915, 1878.50100828],\n",
       "       [1780.99078782, 1440.94080455],\n",
       "       [   0.        ,    0.        ],\n",
       "       [   0.        ,    0.        ]])"
      ]
     },
     "execution_count": 24,
     "metadata": {},
     "output_type": "execute_result"
    }
   ],
   "source": [
    "q_table = best_q\n",
    "q_table"
   ]
  },
  {
   "cell_type": "markdown",
   "metadata": {
    "id": "RAi7KKwNiegR"
   },
   "source": [
    "For Task 1, the observation and chosen action is shown below:"
   ]
  },
  {
   "cell_type": "code",
   "execution_count": 27,
   "metadata": {
    "colab": {
     "base_uri": "https://localhost:8080/"
    },
    "id": "ae2ia-vUiNKJ",
    "outputId": "e0378d23-d901-4fa3-e11a-63097c768b73"
   },
   "outputs": [
    {
     "name": "stdout",
     "output_type": "stream",
     "text": [
      "Observation: [ 0.01036726 -0.01124073 -0.03915063  0.01073031]\n",
      "Chosen action: 1\n"
     ]
    },
    {
     "name": "stderr",
     "output_type": "stream",
     "text": [
      "/usr/local/lib/python3.10/dist-packages/ipykernel/ipkernel.py:283: DeprecationWarning: `should_run_async` will not call `transform_cell` automatically in the future. Please pass the result to `transformed_cell` argument and any exception that happen during thetransform in `preprocessing_exc_tuple` in IPython 7.17 and above.\n",
      "  and should_run_async(code)\n"
     ]
    }
   ],
   "source": [
    "observation = env.reset()\n",
    "state = tuning_converter(observation, best_p, best_v)\n",
    "action = test_agent(state)\n",
    "print(\"Observation:\", observation)\n",
    "print(\"Chosen action:\", action)"
   ]
  },
  {
   "cell_type": "markdown",
   "metadata": {
    "id": "-XtIQ0Rti1gm"
   },
   "source": [
    "## Task 2: Demonstrate the effectiveness of the RL agent"
   ]
  },
  {
   "cell_type": "markdown",
   "metadata": {
    "id": "djBEShf0kGI4"
   },
   "source": [
    "For this task, the agent developed in Task 1 played the game for 100 episodes. The cumulative reward for each episode was recorded and plotted on the graph. "
   ]
  },
  {
   "cell_type": "code",
   "execution_count": 28,
   "metadata": {
    "id": "fVmQ9RRPeaiz"
   },
   "outputs": [],
   "source": [
    "episode_results = []\n",
    "for i in range(100):\n",
    "    observation = env.reset()\n",
    "    cumulative_reward = 0\n",
    "    done = False\n",
    "    while not done:\n",
    "        state = tuning_converter(observation, best_p, best_v)\n",
    "        action = test_agent(state)\n",
    "        observation, reward, done, info = env.step(action)\n",
    "        cumulative_reward += reward\n",
    "    episode_results.append(cumulative_reward)"
   ]
  },
  {
   "cell_type": "markdown",
   "metadata": {},
   "source": [
    "The graph shows a decent result with a minimum reward of approximately 125 and 5 instances of truncation (reward = 500)."
   ]
  },
  {
   "cell_type": "code",
   "execution_count": 29,
   "metadata": {
    "colab": {
     "base_uri": "https://localhost:8080/",
     "height": 472
    },
    "id": "RZrCKywQi6CE",
    "outputId": "881d0362-2091-4446-cc94-00f948ff61f5"
   },
   "outputs": [
    {
     "data": {
      "image/png": "[encoded data removed]",
      "text/plain": [
       "<Figure size 640x480 with 1 Axes>"
      ]
     },
     "metadata": {},
     "output_type": "display_data"
    }
   ],
   "source": [
    "plt.plot(episode_results)\n",
    "plt.title('Cumulative reward for each episode')\n",
    "plt.ylabel('Cumulative reward')\n",
    "plt.xlabel('episode')\n",
    "plt.show()"
   ]
  },
  {
   "cell_type": "markdown",
   "metadata": {
    "id": "XndSYH7wlvn7"
   },
   "source": [
    "The average reward over the 100 episodes is sufficiently high"
   ]
  },
  {
   "cell_type": "code",
   "execution_count": 32,
   "metadata": {
    "colab": {
     "base_uri": "https://localhost:8080/"
    },
    "id": "pOiOp9OYlo5Y",
    "outputId": "298269d0-e690-48c6-a281-dbb87a728bae"
   },
   "outputs": [
    {
     "name": "stdout",
     "output_type": "stream",
     "text": [
      "Average cumulative reward: 230.03\n",
      "Is my agent good enough? True\n"
     ]
    }
   ],
   "source": [
    "mean = sum(episode_results)/100\n",
    "print(\"Average cumulative reward:\", mean)\n",
    "print(\"Is my agent good enough?\", mean > 195)"
   ]
  },
  {
   "cell_type": "markdown",
   "metadata": {
    "id": "Yg0DCT38lFA6"
   },
   "source": [
    "## Task 3: Render one episode played by the agent"
   ]
  },
  {
   "cell_type": "markdown",
   "metadata": {
    "id": "vx1awMr9lc_w"
   },
   "source": [
    "The video of an episode is displayed below."
   ]
  },
  {
   "cell_type": "code",
   "execution_count": 35,
   "metadata": {
    "colab": {
     "base_uri": "https://localhost:8080/",
     "height": 511
    },
    "id": "LYyavfbIa47D",
    "outputId": "f02034d6-50e1-4b63-a400-379fa4770623"
   },
   "outputs": [
    {
     "name": "stderr",
     "output_type": "stream",
     "text": [
      "/usr/local/lib/python3.10/dist-packages/ipykernel/ipkernel.py:283: DeprecationWarning: `should_run_async` will not call `transform_cell` automatically in the future. Please pass the result to `transformed_cell` argument and any exception that happen during thetransform in `preprocessing_exc_tuple` in IPython 7.17 and above.\n",
      "  and should_run_async(code)\n",
      "/usr/local/lib/python3.10/dist-packages/gym/utils/passive_env_checker.py:241: DeprecationWarning: `np.bool8` is a deprecated alias for `np.bool_`.  (Deprecated NumPy 1.24)\n",
      "  if not isinstance(terminated, (bool, np.bool8)):\n"
     ]
    },
    {
     "data": {
      "text/html": [
       "<video alt=\"test\" autoplay\n",
       "                loop controls style=\"height: 400px;\">\n",
       "                <source src=\"data:video/mp4;base64,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\" type=\"video/mp4\" />\n",
       "             </video>"
      ],
      "text/plain": [
       "<IPython.core.display.HTML object>"
      ]
     },
     "metadata": {},
     "output_type": "display_data"
    }
   ],
   "source": [
    "env = RecordVideo(gym.make(\"CartPole-v1\"), \"./video\")\n",
    "observation = env.reset()\n",
    "while True:\n",
    "    env.render()\n",
    "    #your agent goes here\n",
    "    state = tuning_converter(observation, best_p, best_v)\n",
    "    action = test_agent(state)\n",
    "    observation, reward, done, info = env.step(action)\n",
    "    if done:\n",
    "        break;\n",
    "env.close()\n",
    "show_video()"
   ]
  },
  {
   "cell_type": "code",
   "execution_count": null,
   "metadata": {
    "id": "aVQKSO2LtArR"
   },
   "outputs": [],
   "source": []
  }
 ],
 "metadata": {
  "colab": {
   "provenance": []
  },
  "kernelspec": {
   "display_name": "Python 3 (ipykernel)",
   "language": "python",
   "name": "python3"
  },
  "language_info": {
   "codemirror_mode": {
    "name": "ipython",
    "version": 3
   },
   "file_extension": ".py",
   "mimetype": "text/x-python",
   "name": "python",
   "nbconvert_exporter": "python",
   "pygments_lexer": "ipython3",
   "version": "3.10.6"
  }
 },
 "nbformat": 4,
 "nbformat_minor": 1
}
