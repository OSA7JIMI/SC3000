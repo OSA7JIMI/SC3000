{
  "cells": [
    {
      "cell_type": "markdown",
      "metadata": {
        "id": "ZauhjPSfX7pI"
      },
      "source": [
        "<a href=\"https://colab.research.google.com/github/OSA7JIMI/SC3000/blob/main/easy_ra0004.ipynb\" target=\"_parent\"><img src=\"https://colab.research.google.com/assets/colab-badge.svg\" alt=\"Open In Colab\"/></a>"
      ]
    },
    {
      "cell_type": "markdown",
      "metadata": {
        "id": "UBiYOoesYMvr"
      },
      "source": [
        "## Installing dependencies:"
      ]
    },
    {
      "cell_type": "code",
      "execution_count": 1,
      "metadata": {
        "id": "PbgnVwZmX5uW"
      },
      "outputs": [],
      "source": [
        "# !apt-get install -y xvfb python-opengl > /dev/null 2>&1\n",
        "# !pip install gym pyvirtualdisplay > /dev/null 2>&1\n",
        "# !pip install gym pyvirtualdisplay > /dev/null 2>&1\n",
        "# !apt-get install -y xvfb python-opengl ffmpeg > /dev/null 2>&1\n",
        "# !pip install gym[classic_control]\n",
        "# !apt-get update > /dev/null 2>&1\n",
        "# !apt-get install cmake > /dev/null 2>&1\n",
        "# !pip install --upgrade setuptools 2>&1\n",
        "# !pip install ez_setup > /dev/null 2>&1"
      ]
    },
    {
      "cell_type": "markdown",
      "metadata": {
        "id": "RwKbYeTgbaTA"
      },
      "source": [
        "## Import dependencies, define helper functions, initialise environment"
      ]
    },
    {
      "cell_type": "code",
      "execution_count": 2,
      "metadata": {
        "id": "j6KpgCLGYWmj"
      },
      "outputs": [],
      "source": [
        "import gym\n",
        "from gym import logger as gymlogger\n",
        "from gym.wrappers import RecordVideo\n",
        "gymlogger.set_level(40) #error only\n",
        "import tensorflow as tf\n",
        "import numpy as np\n",
        "import random\n",
        "import matplotlib\n",
        "import matplotlib.pyplot as plt\n",
        "%matplotlib inline\n",
        "import math\n",
        "import glob\n",
        "import io\n",
        "import base64\n",
        "from IPython.display import HTML\n",
        "from IPython import display as ipythondisplay\n",
        "\n",
        "def show_video():\n",
        "    mp4list = glob.glob('video/*.mp4')\n",
        "    if len(mp4list) > 0:\n",
        "        mp4 = mp4list[0]\n",
        "        video = io.open(mp4, 'r+b').read()\n",
        "        encoded = base64.b64encode(video)\n",
        "        ipythondisplay.display(HTML(data='''<video alt=\"test\" autoplay\n",
        "                    loop controls style=\"height: 400px;\">\n",
        "                    <source src=\"data:video/mp4;base64,{0}\" type=\"video/mp4\" />\n",
        "                 </video>'''.format(encoded.decode('ascii'))))\n",
        "    else:\n",
        "        print(\"Could not find video\")\n",
        "\n",
        "env = gym.make(\"CartPole-v1\")"
      ]
    },
    {
      "cell_type": "markdown",
      "metadata": {
        "id": "2oIzK9SzhlWN"
      },
      "source": [
        "## Task 1: Development of an RL agent"
      ]
    },
    {
      "cell_type": "markdown",
      "metadata": {
        "id": "Cc6_e5c_huiq"
      },
      "source": [
        "A Q-learning agent is applied in this task. To obtain the Q-table, an epsilon-greedy strategy with exploration rate of 0.1 was used to choose actions. The Q-table was populated by adding 10% (step size = 0.1) of the difference between the expected future Q-value (discount value = 0.9) and the current Q-value to the current Q-value.\n",
        "\n",
        "\n",
        "After the Q-table has been populated, the agent returns the optimal action directly from the table without any randomness."
      ]
    },
    {
      "cell_type": "code",
      "execution_count": 3,
      "metadata": {
        "id": "Hk-M4QEfh6l5",
        "colab": {
          "base_uri": "https://localhost:8080/"
        },
        "outputId": "42bef917-b5c1-4353-c957-51a569555d40"
      },
      "outputs": [
        {
          "output_type": "stream",
          "name": "stderr",
          "text": [
            "/usr/local/lib/python3.10/dist-packages/ipykernel/ipkernel.py:283: DeprecationWarning: `should_run_async` will not call `transform_cell` automatically in the future. Please pass the result to `transformed_cell` argument and any exception that happen during thetransform in `preprocessing_exc_tuple` in IPython 7.17 and above.\n",
            "  and should_run_async(code)\n"
          ]
        }
      ],
      "source": [
        "def table_agent(state):\n",
        "    if random.random()< 0.1:\n",
        "        return random.randint(0,1)\n",
        "    else:\n",
        "        return np.argmax(q_table[state])\n",
        "\n",
        "def update_table(state, action, reward, future):\n",
        "    best = np.argmax(q_table[future])\n",
        "    target = reward + 0.9*q_table[future, best]\n",
        "    error = target - q_table[state, action]\n",
        "    q_table[state, action] += 0.1*error\n",
        "\n",
        "def test_agent(state):\n",
        "    return np.argmax(q_table[state])"
      ]
    },
    {
      "cell_type": "markdown",
      "metadata": {
        "id": "7XDW3QJKcRQP"
      },
      "source": [
        "Since the original observation is an array containing continuous values, it must first be converted into a discrete state space. A total of 20 states were used to represent observations. States 0-15 are used to represent the binary values of whether each element of the observation is more than 0.\n",
        "\n",
        "As initial observations showed that the most common termination reason was the cart travelling out of the screen, extreme values of position and velocity must be accounted for. States 16-19 represent these danger zones. Since the event of the pendulum swinging more than 12 degrees was rarely observed, states were not allocated to represent this danger.\n",
        "\n",
        "The order of the return statements is arranged from highest to lowest priority, starting with dangerous position, then dangerous velocity, then the observations in binary."
      ]
    },
    {
      "cell_type": "code",
      "execution_count": 4,
      "metadata": {
        "id": "5tTkeGehrk8p"
      },
      "outputs": [],
      "source": [
        "def tuning_converter(observation, pos_proportion, v_proportion):\n",
        "    if observation[0] > 2.4*pos_proportion:\n",
        "        return 16\n",
        "    if observation[0] < -2.4*pos_proportion:\n",
        "        return 17\n",
        "    if observation[1] > 4*v_proportion:\n",
        "        return 18\n",
        "    if observation[1] < -4*v_proportion:\n",
        "        return 19\n",
        "\n",
        "    pos = observation[0] > 0\n",
        "    v = observation[1] > 0\n",
        "    ang = observation[2] > 0\n",
        "    av = observation[3] > 0\n",
        "    state = pos*8 + v*4 + ang*2 + av\n",
        "    return state"
      ]
    },
    {
      "cell_type": "markdown",
      "metadata": {
        "id": "qnhbSLv_8WQV"
      },
      "source": [
        "In order to define danger zones optimally, fine tuning of the boundaries was performed. From environment rules and initial observations, the maximum position is set at +/- 2.4 and the maximum velocity is set at +/- 4. 4 proportions (75%, 80%, 85%, 90%) are tested by populating the Q-table with 10 sets of 100 episodes and testing it on another 10 sets of 100 episodes. The mean reward for each set of episodes is calculated and the proportions with the highest minimum mean are taken as the optimal hyperparameters."
      ]
    },
    {
      "cell_type": "code",
      "execution_count": 27,
      "metadata": {
        "colab": {
          "base_uri": "https://localhost:8080/"
        },
        "id": "-E3YCEU88U_D",
        "outputId": "22e49db0-7fb4-46c6-fa4b-322823c423da"
      },
      "outputs": [
        {
          "output_type": "stream",
          "name": "stdout",
          "text": [
            "45.8 0.75 0.75\n",
            "133.63 0.75 0.8\n",
            "127.36 0.75 0.85\n",
            "66.65 0.75 0.9\n",
            "187.82 0.8 0.75\n",
            "110.87 0.8 0.8\n",
            "91.71 0.8 0.85\n",
            "128.22 0.8 0.9\n",
            "221.12 0.85 0.75\n",
            "76.71 0.85 0.8\n",
            "155.3 0.85 0.85\n",
            "119.77 0.85 0.9\n",
            "84.61 0.9 0.75\n",
            "40.95 0.9 0.8\n",
            "67.98 0.9 0.85\n",
            "138.95 0.9 0.9\n",
            "\n",
            "Best Minimum Mean, Best P, Best V\n",
            "221.12 0.85 0.75\n"
          ]
        }
      ],
      "source": [
        "best_min = 0\n",
        "best_p = 0\n",
        "best_v = 0\n",
        "best_q = np.zeros((20,2))\n",
        "\n",
        "for p in [0.75, 0.8, 0.85, 0.9]:\n",
        "    for v in [0.75, 0.8, 0.85, 0.9]:\n",
        "        q_table = np.zeros((20,2))\n",
        "\n",
        "        for i in range(100):\n",
        "            for j in range(100):\n",
        "                observation = env.reset()\n",
        "                cumulative_reward = 0\n",
        "                done = False\n",
        "                while not done:\n",
        "                    state = tuning_converter(observation, p, v)\n",
        "                    action = table_agent(state)\n",
        "                    observation, reward, done, info = env.step(action)\n",
        "                    future = tuning_converter(observation, p, v)\n",
        "                    cumulative_reward += reward\n",
        "                    update_table(state, action, cumulative_reward, future)\n",
        "\n",
        "        episode_means = []\n",
        "        for i in range(10):\n",
        "            episode_results = np.array([])\n",
        "            for j in range(100):\n",
        "                observation = env.reset()\n",
        "                cumulative_reward = 0\n",
        "                done = False\n",
        "                while not done:\n",
        "                    state = tuning_converter(observation, p, v)\n",
        "                    action = test_agent(state)\n",
        "                    observation, reward, done, info = env.step(action)\n",
        "                    cumulative_reward += reward\n",
        "                episode_results = np.append(episode_results,cumulative_reward)\n",
        "            episode_means.append(episode_results.mean())\n",
        "\n",
        "        if min(episode_means) > best_min:\n",
        "            best_min = min(episode_means)\n",
        "            best_p = p\n",
        "            best_v = v\n",
        "            best_q = q_table\n",
        "\n",
        "        print(min(episode_means), p, v)\n",
        "\n",
        "print()\n",
        "print('Best Minimum Mean, Best P, Best V')\n",
        "print(best_min, best_p, best_v)"
      ]
    },
    {
      "cell_type": "markdown",
      "metadata": {
        "id": "AFpENrFLLucm"
      },
      "source": [
        "The Q-table is set to the one with the optimal hyperparameters. Note that the danger states for velocity may still be 0, indicating that the agent has not learned enough about these states to assign them values."
      ]
    },
    {
      "cell_type": "code",
      "execution_count": 28,
      "metadata": {
        "colab": {
          "base_uri": "https://localhost:8080/"
        },
        "id": "1LvswCgp_XtM",
        "outputId": "deef6a91-8f7c-4964-a7c8-e7dbdef7e9be"
      },
      "outputs": [
        {
          "output_type": "execute_result",
          "data": {
            "text/plain": [
              "array([[ 964.75834285,  501.12202785],\n",
              "       [ 482.20603302,  553.47512097],\n",
              "       [ 432.56676587,  451.72496402],\n",
              "       [ 372.62749373,  551.959963  ],\n",
              "       [ 502.40886502,  462.50939474],\n",
              "       [ 584.19599302,  556.93793056],\n",
              "       [ 609.4244829 ,  415.82660659],\n",
              "       [ 406.01968764,  537.93880298],\n",
              "       [ 426.62308483,  421.82338689],\n",
              "       [ 408.76195581,  710.77454974],\n",
              "       [ 618.19376587,  682.41770535],\n",
              "       [ 466.41669429,  899.26195739],\n",
              "       [ 665.95399721,  405.67464893],\n",
              "       [ 616.74774432,  479.50320261],\n",
              "       [1805.46474939,  940.01591769],\n",
              "       [1106.59371839, 1792.6093825 ],\n",
              "       [2119.91649819, 1952.56037053],\n",
              "       [1843.77167772, 1858.00017303],\n",
              "       [ 948.45851399,  234.1506653 ],\n",
              "       [  19.3       ,   71.04987247]])"
            ]
          },
          "metadata": {},
          "execution_count": 28
        }
      ],
      "source": [
        "q_table = best_q\n",
        "q_table"
      ]
    },
    {
      "cell_type": "markdown",
      "metadata": {
        "id": "RAi7KKwNiegR"
      },
      "source": [
        "For Task 1, the observation and chosen action is shown below:"
      ]
    },
    {
      "cell_type": "code",
      "execution_count": 23,
      "metadata": {
        "colab": {
          "base_uri": "https://localhost:8080/"
        },
        "id": "ae2ia-vUiNKJ",
        "outputId": "6d46e0b1-1ff6-462d-d779-3a67649b97b0"
      },
      "outputs": [
        {
          "output_type": "stream",
          "name": "stdout",
          "text": [
            "Observation: [ 0.0063245  -0.00107629  0.0081178   0.03186786]\n",
            "Chosen action: 1\n"
          ]
        }
      ],
      "source": [
        "observation = env.reset()\n",
        "state = tuning_converter(observation, best_p, best_v)\n",
        "action = test_agent(state)\n",
        "print(\"Observation:\", observation)\n",
        "print(\"Chosen action:\", action)"
      ]
    },
    {
      "cell_type": "markdown",
      "metadata": {
        "id": "-XtIQ0Rti1gm"
      },
      "source": [
        "## Task 2: Demonstrate the effectiveness of the RL agent"
      ]
    },
    {
      "cell_type": "markdown",
      "metadata": {
        "id": "djBEShf0kGI4"
      },
      "source": [
        "For this task, the agent developed in Task 1 played the game for 100 episodes. The cumulative reward for each episode was recorded and plotted on the graph."
      ]
    },
    {
      "cell_type": "code",
      "execution_count": 29,
      "metadata": {
        "id": "fVmQ9RRPeaiz"
      },
      "outputs": [],
      "source": [
        "episode_results = []\n",
        "for i in range(100):\n",
        "    observation = env.reset()\n",
        "    cumulative_reward = 0\n",
        "    done = False\n",
        "    while not done:\n",
        "        state = tuning_converter(observation, best_p, best_v)\n",
        "        action = test_agent(state)\n",
        "        observation, reward, done, info = env.step(action)\n",
        "        cumulative_reward += reward\n",
        "    episode_results.append(cumulative_reward)"
      ]
    },
    {
      "cell_type": "markdown",
      "metadata": {
        "id": "nBBdc6w2GShI"
      },
      "source": [
        "The graph shows a decent result with a minimum reward of approximately 125 and 5 instances of truncation (reward = 500)."
      ]
    },
    {
      "cell_type": "code",
      "execution_count": 30,
      "metadata": {
        "colab": {
          "base_uri": "https://localhost:8080/",
          "height": 472
        },
        "id": "RZrCKywQi6CE",
        "outputId": "f69b67ab-50e2-43e8-c60e-4d0a2988fa38"
      },
      "outputs": [
        {
          "output_type": "display_data",
          "data": {
            "text/plain": [
              "<Figure size 640x480 with 1 Axes>"
            ],
            "image/png": "[encoded data removed]"
          },
          "metadata": {}
        }
      ],
      "source": [
        "plt.plot(episode_results)\n",
        "plt.title('Cumulative reward for each episode')\n",
        "plt.ylabel('Cumulative reward')\n",
        "plt.xlabel('episode')\n",
        "plt.show()"
      ]
    },
    {
      "cell_type": "markdown",
      "metadata": {
        "id": "XndSYH7wlvn7"
      },
      "source": [
        "The average reward over the 100 episodes is sufficiently high"
      ]
    },
    {
      "cell_type": "code",
      "execution_count": 31,
      "metadata": {
        "colab": {
          "base_uri": "https://localhost:8080/"
        },
        "id": "pOiOp9OYlo5Y",
        "outputId": "25be1410-516d-4eac-ceef-7f9951b78d5f"
      },
      "outputs": [
        {
          "output_type": "stream",
          "name": "stdout",
          "text": [
            "Average cumulative reward: 226.49\n",
            "Is my agent good enough? True\n"
          ]
        }
      ],
      "source": [
        "mean = sum(episode_results)/100\n",
        "print(\"Average cumulative reward:\", mean)\n",
        "print(\"Is my agent good enough?\", mean > 195)"
      ]
    },
    {
      "cell_type": "markdown",
      "metadata": {
        "id": "Yg0DCT38lFA6"
      },
      "source": [
        "## Task 3: Render one episode played by the agent"
      ]
    },
    {
      "cell_type": "markdown",
      "metadata": {
        "id": "vx1awMr9lc_w"
      },
      "source": [
        "The video of an episode is displayed below."
      ]
    },
    {
      "cell_type": "code",
      "execution_count": 11,
      "metadata": {
        "colab": {
          "base_uri": "https://localhost:8080/",
          "height": 456
        },
        "id": "LYyavfbIa47D",
        "outputId": "71b63d8c-d8d6-48cf-c554-9d5d9a71cbda"
      },
      "outputs": [
        {
          "output_type": "stream",
          "name": "stderr",
          "text": [
            "/usr/local/lib/python3.10/dist-packages/gym/utils/passive_env_checker.py:241: DeprecationWarning: `np.bool8` is a deprecated alias for `np.bool_`.  (Deprecated NumPy 1.24)\n",
            "  if not isinstance(terminated, (bool, np.bool8)):\n"
          ]
        },
        {
          "output_type": "display_data",
          "data": {
            "text/plain": [
              "<IPython.core.display.HTML object>"
            ],
            "text/html": [
              "<video alt=\"test\" autoplay\n",
              "                    loop controls style=\"height: 400px;\">\n",
              "                    <source src=\"data:video/mp4;base64,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\" type=\"video/mp4\" />\n",
              "                 </video>"
            ]
          },
          "metadata": {}
        }
      ],
      "source": [
        "env = RecordVideo(gym.make(\"CartPole-v1\"), \"./video\")\n",
        "observation = env.reset()\n",
        "while True:\n",
        "    env.render()\n",
        "    #your agent goes here\n",
        "    state = tuning_converter(observation, best_p, best_v)\n",
        "    action = test_agent(state)\n",
        "    observation, reward, done, info = env.step(action)\n",
        "    if done:\n",
        "        break;\n",
        "env.close()\n",
        "show_video()"
      ]
    },
    {
      "cell_type": "code",
      "execution_count": 11,
      "metadata": {
        "id": "aVQKSO2LtArR",
        "colab": {
          "base_uri": "https://localhost:8080/"
        },
        "outputId": "56042e03-4b0e-492a-dd39-59247d48781b"
      },
      "outputs": [
        {
          "output_type": "stream",
          "name": "stderr",
          "text": [
            "/usr/local/lib/python3.10/dist-packages/ipykernel/ipkernel.py:283: DeprecationWarning: `should_run_async` will not call `transform_cell` automatically in the future. Please pass the result to `transformed_cell` argument and any exception that happen during thetransform in `preprocessing_exc_tuple` in IPython 7.17 and above.\n",
            "  and should_run_async(code)\n"
          ]
        }
      ],
      "source": []
    }
  ],
  "metadata": {
    "colab": {
      "provenance": []
    },
    "kernelspec": {
      "display_name": "Python 3 (ipykernel)",
      "language": "python",
      "name": "python3"
    },
    "language_info": {
      "codemirror_mode": {
        "name": "ipython",
        "version": 3
      },
      "file_extension": ".py",
      "mimetype": "text/x-python",
      "name": "python",
      "nbconvert_exporter": "python",
      "pygments_lexer": "ipython3",
      "version": "3.10.6"
    }
  },
  "nbformat": 4,
  "nbformat_minor": 0
}