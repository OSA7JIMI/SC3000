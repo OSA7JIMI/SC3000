{
 "cells": [
  {
   "cell_type": "markdown",
   "metadata": {
    "id": "ZauhjPSfX7pI"
   },
   "source": [
    "## This Notebook\n",
    "\n",
    "<a href=\"https://colab.research.google.com/github/OSA7JIMI/SC3000/blob/main/ezra0004_lab1.ipynb\" target=\"_parent\"><img src=\"https://colab.research.google.com/assets/colab-badge.svg\" alt=\"Open In Colab\"/></a>"
   ]
  },
  {
   "cell_type": "markdown",
   "metadata": {},
   "source": [
    "## Original Q-Table \n",
    "#### The link to the training run which generated the original q-table is attached here\n",
    "<a href=\"https://colab.research.google.com/github/OSA7JIMI/SC3000/blob/main/best_qtable_lab1.ipynb\" target=\"_parent\"><img src=\"https://colab.research.google.com/assets/colab-badge.svg\" alt=\"Original Q-Table\"/></a>"
   ]
  },
  {
   "cell_type": "markdown",
   "metadata": {
    "id": "UBiYOoesYMvr"
   },
   "source": [
    "## Installing dependencies:\n",
    "\n",
    "This cell has no output because I commented it out during Google Colab runtime as all the dependencies were already installed."
   ]
  },
  {
   "cell_type": "code",
   "execution_count": 6,
   "metadata": {
    "colab": {
     "base_uri": "https://localhost:8080/"
    },
    "id": "PbgnVwZmX5uW",
    "outputId": "b917e5fe-023b-452b-8b7e-31f317558e57"
   },
   "outputs": [
    {
     "name": "stderr",
     "output_type": "stream",
     "text": [
      "/usr/local/lib/python3.10/dist-packages/ipykernel/ipkernel.py:283: DeprecationWarning: `should_run_async` will not call `transform_cell` automatically in the future. Please pass the result to `transformed_cell` argument and any exception that happen during thetransform in `preprocessing_exc_tuple` in IPython 7.17 and above.\n",
      "  and should_run_async(code)\n"
     ]
    }
   ],
   "source": [
    "!apt-get install -y xvfb python-opengl > /dev/null 2>&1\n",
    "!pip install gym pyvirtualdisplay > /dev/null 2>&1\n",
    "!pip install gym pyvirtualdisplay > /dev/null 2>&1\n",
    "!apt-get install -y xvfb python-opengl ffmpeg > /dev/null 2>&1\n",
    "!pip install gym[classic_control]\n",
    "!apt-get update > /dev/null 2>&1\n",
    "!apt-get install cmake > /dev/null 2>&1\n",
    "!pip install --upgrade setuptools 2>&1\n",
    "!pip install ez_setup > /dev/null 2>&1"
   ]
  },
  {
   "cell_type": "markdown",
   "metadata": {
    "id": "RwKbYeTgbaTA"
   },
   "source": [
    "## Import dependencies, define helper functions, initialise environment"
   ]
  },
  {
   "cell_type": "code",
   "execution_count": 7,
   "metadata": {
    "id": "j6KpgCLGYWmj"
   },
   "outputs": [],
   "source": [
    "import gym\n",
    "from gym import logger as gymlogger\n",
    "from gym.wrappers import RecordVideo\n",
    "gymlogger.set_level(40) #error only\n",
    "import tensorflow as tf\n",
    "import numpy as np\n",
    "import random\n",
    "import matplotlib\n",
    "import matplotlib.pyplot as plt\n",
    "%matplotlib inline\n",
    "import math\n",
    "import glob\n",
    "import io\n",
    "import base64\n",
    "from IPython.display import HTML\n",
    "from IPython import display as ipythondisplay\n",
    "\n",
    "def show_video():\n",
    "    mp4list = glob.glob('video/*.mp4')\n",
    "    if len(mp4list) > 0:\n",
    "        mp4 = mp4list[0]\n",
    "        video = io.open(mp4, 'r+b').read()\n",
    "        encoded = base64.b64encode(video)\n",
    "        ipythondisplay.display(HTML(data='''<video alt=\"test\" autoplay\n",
    "                    loop controls style=\"height: 400px;\">\n",
    "                    <source src=\"data:video/mp4;base64,{0}\" type=\"video/mp4\" />\n",
    "                 </video>'''.format(encoded.decode('ascii'))))\n",
    "    else:\n",
    "        print(\"Could not find video\")\n",
    "\n",
    "env = gym.make(\"CartPole-v1\")"
   ]
  },
  {
   "cell_type": "markdown",
   "metadata": {
    "id": "2oIzK9SzhlWN"
   },
   "source": [
    "## Task 1: Development of an RL agent"
   ]
  },
  {
   "cell_type": "markdown",
   "metadata": {
    "id": "Cc6_e5c_huiq"
   },
   "source": [
    "A Q-learning agent is applied in this task. To obtain the Q-table, an epsilon-greedy strategy with exploration rate of 0.1 was used to choose actions.\n",
    "\n",
    "The Q-values were calculated using the formula given in the lecture slides: new estimation = old estimation + learning rate(new sample - old estimation). The learning rate is set at 0.1 and the discount value at 0.9.\n",
    "\n",
    "After the Q-table has been populated, the agent returns the optimal action directly from the table without any randomness."
   ]
  },
  {
   "cell_type": "code",
   "execution_count": 8,
   "metadata": {
    "id": "Hk-M4QEfh6l5"
   },
   "outputs": [],
   "source": [
    "def table_agent(state):\n",
    "    if random.random()< 0.1:\n",
    "        return random.randint(0,1)\n",
    "    else:\n",
    "        return np.argmax(q_table[state])\n",
    "\n",
    "def update_table(state, action, reward, future):\n",
    "    best = np.argmax(q_table[future])\n",
    "    target = reward + 0.9*q_table[future, best]\n",
    "    error = target - q_table[state, action]\n",
    "    q_table[state, action] += 0.1*error\n",
    "\n",
    "def test_agent(state):\n",
    "    return np.argmax(q_table[state])"
   ]
  },
  {
   "cell_type": "markdown",
   "metadata": {
    "id": "7XDW3QJKcRQP"
   },
   "source": [
    "### Observation-to-state conversion\n",
    "\n",
    "Since the original observation is an array containing continuous values, it must first be converted into a discrete state. A total of 20 states were used to represent observations. States 0-15 are used to represent the binary values of whether each element of the observation is more than 0.\n",
    "\n",
    "As initial observations showed that the most common termination reason was the cart travelling out of the screen, extreme values of position and velocity must be accounted for. States 16-19 represent these danger zones. Since the event of the pendulum swinging more than 12 degrees was rarely observed, states were not allocated to represent this danger.\n",
    "\n",
    "The order of the return statements is arranged from highest to lowest priority, starting with dangerous position, then dangerous velocity, then the observations in binary."
   ]
  },
  {
   "cell_type": "code",
   "execution_count": 9,
   "metadata": {
    "id": "5tTkeGehrk8p"
   },
   "outputs": [],
   "source": [
    "def tuning_converter(observation, pos_proportion, v_proportion):\n",
    "    if observation[0] > 2.4*pos_proportion:\n",
    "        return 16\n",
    "    if observation[0] < -2.4*pos_proportion:\n",
    "        return 17\n",
    "    if observation[1] > 4*v_proportion:\n",
    "        return 18\n",
    "    if observation[1] < -4*v_proportion:\n",
    "        return 19\n",
    "\n",
    "    pos = observation[0] > 0\n",
    "    v = observation[1] > 0\n",
    "    ang = observation[2] > 0\n",
    "    av = observation[3] > 0\n",
    "    state = pos*8 + v*4 + ang*2 + av\n",
    "    return state"
   ]
  },
  {
   "cell_type": "markdown",
   "metadata": {
    "id": "qnhbSLv_8WQV"
   },
   "source": [
    "### Training the agent and tuning hyperparameters\n",
    "\n",
    "Danger zones are important hyperparameters of the model. In order to define them optimally, fine tuning must be performed.\n",
    "\n",
    "From environment rules and initial observations, the maximum position is set at +/- 2.4 and the maximum velocity is set at +/- 4. 4 proportions (75%, 80%, 85%, 90%) are tested by populating the Q-table with 100 sets of 100 episodes and testing it on another 10 sets of 100 episodes.\n",
    "\n",
    "The mean reward for each test set of episodes is calculated and the proportions with the highest minimum mean reward are taken as the optimal hyperparameters. The minimum mean was chosen for comparison because it provides confidence that the Q-table is decent even in the worst case scenario."
   ]
  },
  {
   "cell_type": "code",
   "execution_count": 10,
   "metadata": {
    "colab": {
     "base_uri": "https://localhost:8080/"
    },
    "id": "-E3YCEU88U_D",
    "outputId": "d4f7d89c-f5a4-4aea-d2f6-8088894d1ccb"
   },
   "outputs": [
    {
     "name": "stderr",
     "output_type": "stream",
     "text": [
      "/usr/local/lib/python3.10/dist-packages/gym/utils/passive_env_checker.py:241: DeprecationWarning: `np.bool8` is a deprecated alias for `np.bool_`.  (Deprecated NumPy 1.24)\n",
      "  if not isinstance(terminated, (bool, np.bool8)):\n"
     ]
    },
    {
     "name": "stdout",
     "output_type": "stream",
     "text": [
      "53.75 0.75 0.75\n",
      "124.9 0.75 0.8\n",
      "78.29 0.75 0.85\n",
      "154.1 0.75 0.9\n",
      "98.28 0.8 0.75\n",
      "102.38 0.8 0.8\n",
      "94.45 0.8 0.85\n",
      "82.77 0.8 0.9\n",
      "81.64 0.85 0.75\n",
      "56.62 0.85 0.8\n",
      "39.88 0.85 0.85\n",
      "35.42 0.85 0.9\n",
      "37.05 0.9 0.75\n",
      "53.49 0.9 0.8\n",
      "54.5 0.9 0.85\n",
      "86.8 0.9 0.9\n",
      "\n",
      "Best Minimum Mean, Best P, Best V\n",
      "154.1 0.75 0.9\n"
     ]
    }
   ],
   "source": [
    "best_min = 0\n",
    "best_p = 0\n",
    "best_v = 0\n",
    "best_q = np.zeros((20,2))\n",
    "\n",
    "for p in [0.75, 0.8, 0.85, 0.9]:\n",
    "    for v in [0.75, 0.8, 0.85, 0.9]:\n",
    "        q_table = np.zeros((20,2))\n",
    "\n",
    "        for i in range(100):\n",
    "            for j in range(100):\n",
    "                observation = env.reset()\n",
    "                cumulative_reward = 0\n",
    "                done = False\n",
    "                while not done:\n",
    "                    state = tuning_converter(observation, p, v)\n",
    "                    action = table_agent(state)\n",
    "                    observation, reward, done, info = env.step(action)\n",
    "                    future = tuning_converter(observation, p, v)\n",
    "                    cumulative_reward += reward\n",
    "                    update_table(state, action, cumulative_reward, future)\n",
    "\n",
    "        episode_means = []\n",
    "        for i in range(10):\n",
    "            episode_results = np.array([])\n",
    "            for j in range(100):\n",
    "                observation = env.reset()\n",
    "                cumulative_reward = 0\n",
    "                done = False\n",
    "                while not done:\n",
    "                    state = tuning_converter(observation, p, v)\n",
    "                    action = test_agent(state)\n",
    "                    observation, reward, done, info = env.step(action)\n",
    "                    cumulative_reward += reward\n",
    "                episode_results = np.append(episode_results,cumulative_reward)\n",
    "            episode_means.append(episode_results.mean())\n",
    "\n",
    "        if min(episode_means) > best_min:\n",
    "            best_min = min(episode_means)\n",
    "            best_p = p\n",
    "            best_v = v\n",
    "            best_q = q_table\n",
    "\n",
    "        print(min(episode_means), p, v)\n",
    "\n",
    "print()\n",
    "print('Best Minimum Mean, Best P, Best V')\n",
    "print(best_min, best_p, best_v)"
   ]
  },
  {
   "cell_type": "markdown",
   "metadata": {
    "id": "6kzrEaQaj_aB"
   },
   "source": [
    "### When training an agent from scratch\n",
    "\n",
    "Trackers are initialised to record the best Q-table and its hyperparameters.\n",
    "\n",
    "#### Each time the notebook is opened, this cell should be commented out after the first run, else the records will keep resetting."
   ]
  },
  {
   "cell_type": "code",
   "execution_count": 11,
   "metadata": {
    "id": "9KrRoD7Dj_aC"
   },
   "outputs": [],
   "source": [
    "record_best_q = np.zeros((20,2))\n",
    "record_best_min = 0\n",
    "record_best_p = 0\n",
    "record_best_v = 0"
   ]
  },
  {
   "cell_type": "markdown",
   "metadata": {
    "id": "ei2zhDoOj_aC"
   },
   "source": [
    "### When using my trained agent\n",
    "This cell will nullify the effect of the previous cell.\n",
    "\n",
    "It records the best performing Q-table that I found during training, with a minimum mean reward of 294.17 and both hyperparameters at 75%.\n",
    "\n",
    "#### To use an agent that is trained from scratch, comment this cell out."
   ]
  },
  {
   "cell_type": "code",
   "execution_count": 12,
   "metadata": {
    "id": "o51aHVBBj_aC"
   },
   "outputs": [],
   "source": [
    "record_best_q = np.array([[1451.62611697,  514.99617382],\n",
    "           [1709.009941  , 1029.21087411],\n",
    "           [ 760.79884463, 1808.22820041],\n",
    "           [ 932.22331732, 1689.31355644],\n",
    "           [ 913.63429623,  511.15432976],\n",
    "           [ 447.45660861,  543.8179625 ],\n",
    "           [1543.73110411, 1377.84295539],\n",
    "           [1152.96659858, 1489.90443688],\n",
    "           [1191.21247374,  932.11745667],\n",
    "           [ 870.59754528, 1125.51501821],\n",
    "           [ 525.96247204,  638.06132196],\n",
    "           [ 485.05456479,  571.58755071],\n",
    "           [1085.83328508,  766.35809815],\n",
    "           [ 986.39948536,  516.99516015],\n",
    "           [ 579.78793808,  994.54769863],\n",
    "           [ 594.55726208,  790.79385194],\n",
    "           [1689.897476  , 1690.28153047],\n",
    "           [1828.79840885, 1733.33424038],\n",
    "           [ 183.6541616 ,    0.        ],\n",
    "           [  58.5198753 ,    0.        ]])\n",
    "\n",
    "record_best_min = 294.17\n",
    "record_best_p = 0.75\n",
    "record_best_v = 0.75"
   ]
  },
  {
   "cell_type": "markdown",
   "metadata": {
    "id": "AFpENrFLLucm"
   },
   "source": [
    "### Updating records\n",
    "\n",
    "The Q-table and hyperparameters are set to optimal values. In some training sessions, the Q-values for dangerous velocity (state 18-19) are still 0. This indicates that the agent has not learned enough about these states to assign them values.\n",
    "\n",
    "The hyperparameters and Q-table can be improved by running the notebook multiple times."
   ]
  },
  {
   "cell_type": "code",
   "execution_count": 13,
   "metadata": {
    "colab": {
     "base_uri": "https://localhost:8080/"
    },
    "id": "HkXhXPEdj_aC",
    "outputId": "fb7808eb-51d6-45a1-bb21-ebf5654f2c16"
   },
   "outputs": [
    {
     "name": "stdout",
     "output_type": "stream",
     "text": [
      "No change to Q-table\n",
      "\n"
     ]
    },
    {
     "data": {
      "text/plain": [
       "array([[1451.62611697,  514.99617382],\n",
       "       [1709.009941  , 1029.21087411],\n",
       "       [ 760.79884463, 1808.22820041],\n",
       "       [ 932.22331732, 1689.31355644],\n",
       "       [ 913.63429623,  511.15432976],\n",
       "       [ 447.45660861,  543.8179625 ],\n",
       "       [1543.73110411, 1377.84295539],\n",
       "       [1152.96659858, 1489.90443688],\n",
       "       [1191.21247374,  932.11745667],\n",
       "       [ 870.59754528, 1125.51501821],\n",
       "       [ 525.96247204,  638.06132196],\n",
       "       [ 485.05456479,  571.58755071],\n",
       "       [1085.83328508,  766.35809815],\n",
       "       [ 986.39948536,  516.99516015],\n",
       "       [ 579.78793808,  994.54769863],\n",
       "       [ 594.55726208,  790.79385194],\n",
       "       [1689.897476  , 1690.28153047],\n",
       "       [1828.79840885, 1733.33424038],\n",
       "       [ 183.6541616 ,    0.        ],\n",
       "       [  58.5198753 ,    0.        ]])"
      ]
     },
     "execution_count": 13,
     "metadata": {},
     "output_type": "execute_result"
    }
   ],
   "source": [
    "if record_best_min >= best_min:\n",
    "    q_table = record_best_q\n",
    "    print('No change to Q-table')\n",
    "    print()\n",
    "\n",
    "else:\n",
    "    q_table = best_q\n",
    "    record_best_q = q_table\n",
    "    record_best_min = best_min\n",
    "    record_best_p = best_p\n",
    "    record_best_v = best_v\n",
    "    print('New best Q-table')\n",
    "    print()\n",
    "\n",
    "q_table"
   ]
  },
  {
   "cell_type": "markdown",
   "metadata": {
    "id": "RAi7KKwNiegR"
   },
   "source": [
    "### Task 1 Deliverable\n",
    "\n",
    "For Task 1, the observation and chosen action is shown below:"
   ]
  },
  {
   "cell_type": "code",
   "execution_count": 14,
   "metadata": {
    "colab": {
     "base_uri": "https://localhost:8080/"
    },
    "id": "ae2ia-vUiNKJ",
    "outputId": "143af9ce-7a3e-443b-d108-c6d662e4ba25"
   },
   "outputs": [
    {
     "name": "stdout",
     "output_type": "stream",
     "text": [
      "Observation: [ 0.0410416   0.01839801 -0.04203885  0.03827573]\n",
      "Chosen action: 0\n"
     ]
    }
   ],
   "source": [
    "observation = env.reset()\n",
    "state = tuning_converter(observation, record_best_p, record_best_v)\n",
    "action = test_agent(state)\n",
    "print(\"Observation:\", observation)\n",
    "print(\"Chosen action:\", action)"
   ]
  },
  {
   "cell_type": "markdown",
   "metadata": {
    "id": "-XtIQ0Rti1gm"
   },
   "source": [
    "## Task 2: Demonstrate the effectiveness of the RL agent"
   ]
  },
  {
   "cell_type": "markdown",
   "metadata": {
    "id": "djBEShf0kGI4"
   },
   "source": [
    "For this task, the agent developed in Task 1 played the game for 100 episodes. The cumulative reward for each episode was recorded and plotted on the graph."
   ]
  },
  {
   "cell_type": "code",
   "execution_count": 15,
   "metadata": {
    "id": "fVmQ9RRPeaiz"
   },
   "outputs": [],
   "source": [
    "episode_results = []\n",
    "for i in range(100):\n",
    "    observation = env.reset()\n",
    "    cumulative_reward = 0\n",
    "    done = False\n",
    "    while not done:\n",
    "        state = tuning_converter(observation, record_best_p, record_best_v)\n",
    "        action = test_agent(state)\n",
    "        observation, reward, done, info = env.step(action)\n",
    "        cumulative_reward += reward\n",
    "    episode_results.append(cumulative_reward)"
   ]
  },
  {
   "cell_type": "markdown",
   "metadata": {
    "id": "nBBdc6w2GShI"
   },
   "source": [
    "The graph shows a good result with many instances of truncation (maximum cumulative reward = 500).\n",
    "\n",
    "There are also a few instances of low cumulative reward (<100). These anomalies are likely due to one or two starting states that the agent needs more training on."
   ]
  },
  {
   "cell_type": "code",
   "execution_count": 16,
   "metadata": {
    "colab": {
     "base_uri": "https://localhost:8080/",
     "height": 472
    },
    "id": "RZrCKywQi6CE",
    "outputId": "affc0abc-ab8c-4fde-e601-401b76fa7897"
   },
   "outputs": [
    {
     "data": {
      "image/png": "[encoded data removed]",
      "text/plain": [
       "<Figure size 640x480 with 1 Axes>"
      ]
     },
     "metadata": {},
     "output_type": "display_data"
    }
   ],
   "source": [
    "plt.plot(episode_results)\n",
    "plt.title('Cumulative reward for each episode')\n",
    "plt.ylabel('Cumulative reward')\n",
    "plt.xlabel('episode')\n",
    "plt.show()"
   ]
  },
  {
   "cell_type": "markdown",
   "metadata": {
    "id": "XndSYH7wlvn7"
   },
   "source": [
    "The average reward over the 100 episodes is significantly higher than required."
   ]
  },
  {
   "cell_type": "code",
   "execution_count": 17,
   "metadata": {
    "colab": {
     "base_uri": "https://localhost:8080/"
    },
    "id": "pOiOp9OYlo5Y",
    "outputId": "6fd94c85-9c9c-4dbc-a9eb-a2c98475e8e8"
   },
   "outputs": [
    {
     "name": "stdout",
     "output_type": "stream",
     "text": [
      "Average cumulative reward: 327.49\n",
      "Is my agent good enough? True\n"
     ]
    }
   ],
   "source": [
    "mean = sum(episode_results)/100\n",
    "print(\"Average cumulative reward:\", mean)\n",
    "print(\"Is my agent good enough?\", mean > 195)"
   ]
  },
  {
   "cell_type": "markdown",
   "metadata": {
    "id": "Yg0DCT38lFA6"
   },
   "source": [
    "## Task 3: Render one episode played by the agent"
   ]
  },
  {
   "cell_type": "markdown",
   "metadata": {
    "id": "vx1awMr9lc_w"
   },
   "source": [
    "The video of an episode is displayed below. The cumulative reward is quite low.\n",
    "\n",
    "As this is only one episode, it is not representative of the model."
   ]
  },
  {
   "cell_type": "code",
   "execution_count": 18,
   "metadata": {
    "colab": {
     "base_uri": "https://localhost:8080/",
     "height": 456
    },
    "id": "LYyavfbIa47D",
    "outputId": "826d8e54-80e4-4529-b260-2381d68e3e80"
   },
   "outputs": [
    {
     "name": "stderr",
     "output_type": "stream",
     "text": [
      "/usr/local/lib/python3.10/dist-packages/gym/utils/passive_env_checker.py:241: DeprecationWarning: `np.bool8` is a deprecated alias for `np.bool_`.  (Deprecated NumPy 1.24)\n",
      "  if not isinstance(terminated, (bool, np.bool8)):\n"
     ]
    },
    {
     "data": {
      "text/html": [
       "<video alt=\"test\" autoplay\n",
       "                    loop controls style=\"height: 400px;\">\n",
       "                    <source src=\"data:video/mp4;base64,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\" type=\"video/mp4\" />\n",
       "                 </video>"
      ],
      "text/plain": [
       "<IPython.core.display.HTML object>"
      ]
     },
     "metadata": {},
     "output_type": "display_data"
    }
   ],
   "source": [
    "env = RecordVideo(gym.make(\"CartPole-v1\"), \"./video\")\n",
    "observation = env.reset()\n",
    "while True:\n",
    "    env.render()\n",
    "    #your agent goes here\n",
    "    state = tuning_converter(observation, record_best_p, record_best_v)\n",
    "    action = test_agent(state)\n",
    "    observation, reward, done, info = env.step(action)\n",
    "    if done:\n",
    "        break;\n",
    "env.close()\n",
    "show_video()"
   ]
  },
  {
   "cell_type": "code",
   "execution_count": 18,
   "metadata": {
    "colab": {
     "base_uri": "https://localhost:8080/"
    },
    "id": "aVQKSO2LtArR",
    "outputId": "c9ead84d-a067-4df7-97c8-629af17a1d37"
   },
   "outputs": [
    {
     "name": "stderr",
     "output_type": "stream",
     "text": [
      "/usr/local/lib/python3.10/dist-packages/ipykernel/ipkernel.py:283: DeprecationWarning: `should_run_async` will not call `transform_cell` automatically in the future. Please pass the result to `transformed_cell` argument and any exception that happen during thetransform in `preprocessing_exc_tuple` in IPython 7.17 and above.\n",
      "  and should_run_async(code)\n"
     ]
    }
   ],
   "source": []
  }
 ],
 "metadata": {
  "colab": {
   "provenance": []
  },
  "kernelspec": {
   "display_name": "Python 3 (ipykernel)",
   "language": "python",
   "name": "python3"
  },
  "language_info": {
   "codemirror_mode": {
    "name": "ipython",
    "version": 3
   },
   "file_extension": ".py",
   "mimetype": "text/x-python",
   "name": "python",
   "nbconvert_exporter": "python",
   "pygments_lexer": "ipython3",
   "version": "3.10.6"
  }
 },
 "nbformat": 4,
 "nbformat_minor": 1
}
